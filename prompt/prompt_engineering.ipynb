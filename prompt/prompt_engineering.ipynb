{
 "cells": [
  {
   "cell_type": "markdown",
   "id": "3aff4a552955d75d",
   "metadata": {
    "collapsed": false,
    "editable": true,
    "jupyter": {
     "outputs_hidden": false
    },
    "slideshow": {
     "slide_type": "slide"
    },
    "tags": []
   },
   "source": [
    "# GAIA Workshop - Prompt Engineering"
   ]
  },
  {
   "cell_type": "code",
   "execution_count": 2,
   "id": "initial_id",
   "metadata": {
    "ExecuteTime": {
     "end_time": "2024-03-26T07:32:09.247738Z",
     "start_time": "2024-03-26T07:32:09.238364Z"
    },
    "editable": true,
    "slideshow": {
     "slide_type": "subslide"
    },
    "tags": []
   },
   "outputs": [],
   "source": [
    "from openai import OpenAI, AzureOpenAI\n",
    "from dotenv import load_dotenv"
   ]
  },
  {
   "cell_type": "code",
   "execution_count": 3,
   "id": "9fba2a7f523c6a72",
   "metadata": {
    "ExecuteTime": {
     "end_time": "2024-03-26T07:32:09.673392Z",
     "start_time": "2024-03-26T07:32:09.668440Z"
    },
    "collapsed": false,
    "editable": true,
    "jupyter": {
     "outputs_hidden": false
    },
    "slideshow": {
     "slide_type": "subslide"
    },
    "tags": []
   },
   "outputs": [
    {
     "data": {
      "text/plain": [
       "True"
      ]
     },
     "execution_count": 3,
     "metadata": {},
     "output_type": "execute_result"
    }
   ],
   "source": [
    "# read keys\n",
    "load_dotenv()\n",
    "# .env \n",
    "# reading AZURE_OPENAI_ENDPOINT and AZURE_OPENAI_KEY from .env file "
   ]
  },
  {
   "cell_type": "markdown",
   "id": "1785490361ba4039",
   "metadata": {
    "collapsed": false,
    "editable": true,
    "jupyter": {
     "outputs_hidden": false
    },
    "slideshow": {
     "slide_type": "slide"
    },
    "tags": []
   },
   "source": [
    "## Initialize the client\n",
    "Initialize the client, this requires api keys, and in the case of Azure OpenAI, the endpoint. The keys are set as environment variables. \n",
    "The client is used to interact with the OpenAI API."
   ]
  },
  {
   "cell_type": "code",
   "execution_count": 4,
   "id": "44af78e5359141cc",
   "metadata": {
    "ExecuteTime": {
     "end_time": "2024-03-26T07:32:10.333700Z",
     "start_time": "2024-03-26T07:32:10.316103Z"
    },
    "collapsed": false,
    "editable": true,
    "jupyter": {
     "outputs_hidden": false
    },
    "slideshow": {
     "slide_type": "subslide"
    },
    "tags": []
   },
   "outputs": [],
   "source": [
    "client = AzureOpenAI( api_version=\"2023-12-01-preview\",)    # if openai's api: OpenAI() "
   ]
  },
  {
   "cell_type": "code",
   "execution_count": 5,
   "id": "d3ddb99836907281",
   "metadata": {
    "ExecuteTime": {
     "end_time": "2024-03-26T07:32:10.650281Z",
     "start_time": "2024-03-26T07:32:10.647149Z"
    },
    "collapsed": false,
    "editable": true,
    "jupyter": {
     "outputs_hidden": false
    },
    "slideshow": {
     "slide_type": "subslide"
    },
    "tags": []
   },
   "outputs": [],
   "source": [
    "def get_response(user_prompt:str,system_prompt:str,temperature:float=1.0,max_tokens:int=256,)->str:\n",
    "    response = client.chat.completions.create(\n",
    "    model=\"gpt4\",       # if openai's model: \"gpt-4\"  # todo: check! \n",
    "    messages=[\n",
    "        {\n",
    "            \"role\": \"system\",\n",
    "            \"content\": system_prompt,\n",
    "        },\n",
    "        {\"role\": \"user\", \"content\": user_prompt},\n",
    "        # more user prompts can be added here\n",
    "    ],\n",
    "    temperature=temperature,\n",
    "    max_tokens=max_tokens,\n",
    ")\n",
    "    return response.choices[0].message.content"
   ]
  },
  {
   "cell_type": "markdown",
   "id": "797d0c3c6bce01de",
   "metadata": {
    "collapsed": false,
    "editable": true,
    "jupyter": {
     "outputs_hidden": false
    },
    "slideshow": {
     "slide_type": "slide"
    },
    "tags": []
   },
   "source": [
    "# Use case: Changing the system prompt\n",
    "In this example, we will change the system prompt to see how it affects the response.\n"
   ]
  },
  {
   "cell_type": "code",
   "execution_count": 7,
   "id": "32fe2e3be2a470e2",
   "metadata": {
    "ExecuteTime": {
     "end_time": "2024-03-26T07:32:34.538344Z",
     "start_time": "2024-03-26T07:32:11.360443Z"
    },
    "collapsed": false,
    "editable": true,
    "jupyter": {
     "outputs_hidden": false
    },
    "slideshow": {
     "slide_type": "subslide"
    },
    "tags": []
   },
   "outputs": [
    {
     "name": "stdout",
     "output_type": "stream",
     "text": [
      "When visiting Gothenburg, Sweden, there are numerous activities that you can participate in. \n",
      "\n",
      "1. Visit Universeum: It's a 7-floor science center where you can see different kinds of animals, experience a rainforest climate, and learn about science in a fun way.\n",
      "\n",
      "2. Explore Liseberg amusement park: Known as one of the top amusement parks in Europe with thrilling rides, beautiful gardens, and events during Halloween and Christmas. \n",
      "\n",
      "3. Visit the Gothenburg Museum of Art: It's known for its collection of Nordic art but it also houses older and contemporary art.\n",
      "\n",
      "4. Stroll around Haga: This district is one of the oldest neighborhoods in Gothenburg, renowned for its picturesque wooden houses, boutiques, and cafe culture.\n",
      "\n",
      "5. Archipelago tour: Close to Gothenburg, there are beautiful islands that you can reach by ferry.\n",
      "\n",
      "6. Visit Universeum Park: It's a great place to relax, enjoy the beautiful flower displays, and see some of the animals in the zoo. \n",
      "\n",
      "7. Indulge in Seafood: Gothenburg has some fantastic seafood restaurants owing to its coastal location.\n",
      "\n",
      "8. Visit the Volvo Museum: If you're a fan of cars, this might be an interesting stop to\n"
     ]
    }
   ],
   "source": [
    "\n",
    "user_prompt = \"What should I do when I'm visiting Gothenburg?\"\n",
    "system_prompt = f\"\"\"You are a helpful assistant that writes an answer to a question. \"\"\"\n",
    "\n",
    "print(get_response(user_prompt,system_prompt))"
   ]
  },
  {
   "cell_type": "code",
   "execution_count": 65,
   "id": "9ad7613542d702f",
   "metadata": {
    "ExecuteTime": {
     "end_time": "2024-03-26T07:33:04.781651Z",
     "start_time": "2024-03-26T07:32:34.540864Z"
    },
    "collapsed": false,
    "editable": true,
    "jupyter": {
     "outputs_hidden": false
    },
    "slideshow": {
     "slide_type": "subslide"
    },
    "tags": []
   },
   "outputs": [
    {
     "name": "stdout",
     "output_type": "stream",
     "text": [
      "There are numerous tech-related activities you can enjoy while visiting Gothenburg, Sweden:\n",
      "\n",
      "1. Universeum: A science centre with a variety of exhibits. Highlights include a rainforest, aquarium, and interactive exhibits about technology, physics, and space.\n",
      "\n",
      "2. Volvo Museum: Learn about the history of one of Sweden's most famous companies. See everything from vintage cars to cutting-edge, environmentally friendly models. They also have some exhibits on their technology and design processes.\n",
      "\n",
      "3. Lindholmen Science Park: This area is dedicated to research and development and is home to many tech startups, as well as companies from the automotive, communications, and entertainment industries. Walking around, you'll see some of the cutting edge of Swedish tech innovation.\n",
      "\n",
      "4. Chalmers University of Technology: One of the most prestigious engineering and technology universities in Sweden. They often have public lectures and exhibitions.\n",
      "\n",
      "5. Visit tech stores: Gothenburg has several modern tech shops where you can explore the latest gadgets.\n",
      "\n",
      "6. Tech Events and Meetups: Gothenburg has a healthy tech scene. Check out local listings for tech meetups or events that you could join while you're in town.\n",
      "\n",
      "Remember, aside from these tech activities, there are also classic tourist activities like visiting the beautiful archipelago\n"
     ]
    }
   ],
   "source": [
    "system_prompt = f\"\"\"You are a helpful assistant that writes an answer to a question, with a tech perspective. \"\"\"\n",
    "print(get_response(user_prompt,system_prompt))\n"
   ]
  },
  {
   "cell_type": "code",
   "execution_count": 8,
   "id": "e40405d2d16ca28b",
   "metadata": {
    "ExecuteTime": {
     "end_time": "2024-03-26T07:33:09.278300Z",
     "start_time": "2024-03-26T07:33:04.784110Z"
    },
    "collapsed": false,
    "editable": true,
    "jupyter": {
     "outputs_hidden": false
    },
    "slideshow": {
     "slide_type": "subslide"
    },
    "tags": []
   },
   "outputs": [
    {
     "name": "stdout",
     "output_type": "stream",
     "text": [
      "First, get some comfortable shoes - the walking here would make even a marathon runner sigh. Then head to Universeum to meet sharks. They're the only locals who won't bore you with a \"göteborgsvits\". Speaking of which, why don't scientists trust atoms? Because they make up everything!  Welcome to Gothenburg!\n"
     ]
    }
   ],
   "source": [
    "system_prompt = f\"\"\"You are a helpful assistant that writes an answer to a question. Make the answer short, concise and funny.(if possible add what we call a göteborgsvits) \"\"\"\n",
    "print(get_response(user_prompt,system_prompt))\n"
   ]
  },
  {
   "cell_type": "markdown",
   "id": "6b5a23256ed7df3e",
   "metadata": {
    "collapsed": false,
    "editable": true,
    "jupyter": {
     "outputs_hidden": false
    },
    "slideshow": {
     "slide_type": "slide"
    },
    "tags": []
   },
   "source": [
    "## Use case: Generate data examples"
   ]
  },
  {
   "cell_type": "code",
   "execution_count": 9,
   "id": "fe2a0b53339be2b0",
   "metadata": {
    "ExecuteTime": {
     "end_time": "2024-03-26T07:33:36.674570Z",
     "start_time": "2024-03-26T07:33:09.280757Z"
    },
    "collapsed": false,
    "editable": true,
    "jupyter": {
     "outputs_hidden": false
    },
    "slideshow": {
     "slide_type": "subslide"
    },
    "tags": []
   },
   "outputs": [
    {
     "name": "stdout",
     "output_type": "stream",
     "text": [
      "[\n",
      "  {\n",
      "    \"temperature\": 25,\n",
      "    \"weather\": \"Sunny\",\n",
      "    \"location\": \"Los Angeles, USA\"\n",
      "  },\n",
      "  {\n",
      "    \"temperature\": 30,\n",
      "    \"weather\": \"Hot and sunny\",\n",
      "    \"location\": \"Dubai, UAE\"\n",
      "  },\n",
      "  {\n",
      "    \"temperature\": 15,\n",
      "    \"weather\": \"Cloudy with a chance of rain\",\n",
      "    \"location\": \"Vancouver, Canada\"\n",
      "  },\n",
      "  {\n",
      "    \"temperature\": 10,\n",
      "    \"weather\": \"Overcast and chilly\",\n",
      "    \"location\": \"Berlin, Germany\"\n",
      "  },\n",
      "  {\n",
      "    \"temperature\": -5,\n",
      "    \"weather\": \"Snowing\",\n",
      "    \"location\": \"Moscow, Russia\"\n",
      "  },\n",
      "  {\n",
      "    \"temperature\": 28,\n",
      "    \"weather\": \"Sunny with a few clouds\",\n",
      "    \"location\": \"Sydney, Australia\"\n",
      "  },\n",
      "  {\n",
      "    \"temperature\": 20,\n",
      "    \"weather\": \"Mild with clear skies\",\n",
      "    \"location\": \"Tokyo, Japan\"\n",
      "  },\n",
      "  {\n",
      "    \"temperature\": 33,\n",
      "    \"weather\": \"Hot and humid\",\n",
      "    \"location\": \"Bangkok, Thailand\"\n",
      "  },\n",
      "  {\n",
      "    \"temperature\": -2\n"
     ]
    }
   ],
   "source": [
    "system = f\"\"\"You are a helpful assistant that answers questions about the weather.\n",
    "             The response should be a json with the following fields, temperature, weather, and location.\n",
    "             The temperature should be in celsius, the weather should be a string describing the weather, and the location should be a string describing the location. \"\"\"\n",
    "print(get_response(\"Generate 10 examples in a list\",system))"
   ]
  },
  {
   "cell_type": "markdown",
   "id": "e607e9f22e5b033d",
   "metadata": {
    "collapsed": false,
    "editable": true,
    "jupyter": {
     "outputs_hidden": false
    },
    "slideshow": {
     "slide_type": "slide"
    },
    "tags": []
   },
   "source": [
    "## Example: Find actions and filters"
   ]
  },
  {
   "cell_type": "code",
   "execution_count": 68,
   "id": "39423c498a4ff6c7",
   "metadata": {
    "ExecuteTime": {
     "end_time": "2024-03-26T07:33:36.678253Z",
     "start_time": "2024-03-26T07:33:36.675921Z"
    },
    "collapsed": false,
    "editable": true,
    "jupyter": {
     "outputs_hidden": false
    },
    "slideshow": {
     "slide_type": "subslide"
    },
    "tags": []
   },
   "outputs": [],
   "source": [
    "from datetime import datetime\n",
    "\n",
    "system = f\"\"\"You are a helpful assistant that maps queries into actions.\n",
    "    The actions are described in the following way:\n",
    "    - Name: Description of the action.\n",
    "    \n",
    "    Actions:\n",
    "    - list_jobs: List all executed jobs\n",
    "    - show_consumption_plot: Show a plot showing the consumption of material\n",
    "    - show_help: Show help information\n",
    "    - show_material: Show information about a specific material\n",
    "        \n",
    "    If you can match the query to an action, return the ID of that action,  if not return '{{\"id\":\"noActionFound\"}}'.\n",
    "    The response should be a json with the following fields, id and filter.\n",
    "    Identify if a date or date range is specified in the query, if so add it to the filter by defining a start_date and a end_date. Todays date is {datetime.today()}.\n",
    "    Weeks starts at mondays. The date format is \"YYYY-MM-DD\".\n",
    "    'Example: {{\"id\":\"action_id\", \"filter\": {{\"start_date\": \"2022-01-01\", \"end_date\": \"2022-01-31\"}}}} \"\"\"\n"
   ]
  },
  {
   "cell_type": "code",
   "execution_count": 69,
   "id": "3fe2547a65f8e84f",
   "metadata": {
    "ExecuteTime": {
     "end_time": "2024-03-26T07:33:39.686953Z",
     "start_time": "2024-03-26T07:33:36.679558Z"
    },
    "collapsed": false,
    "editable": true,
    "jupyter": {
     "outputs_hidden": false
    },
    "slideshow": {
     "slide_type": "subslide"
    },
    "tags": []
   },
   "outputs": [
    {
     "data": {
      "text/plain": [
       "'{\"id\": \"list_jobs\", \"filter\": {}}'"
      ]
     },
     "execution_count": 69,
     "metadata": {},
     "output_type": "execute_result"
    }
   ],
   "source": [
    "get_response(\"Show me all jobs\",system)"
   ]
  },
  {
   "cell_type": "code",
   "execution_count": 70,
   "id": "3c0667ba0b097f1",
   "metadata": {
    "ExecuteTime": {
     "end_time": "2024-03-26T07:33:43.771586Z",
     "start_time": "2024-03-26T07:33:39.688054Z"
    },
    "collapsed": false,
    "editable": true,
    "jupyter": {
     "outputs_hidden": false
    },
    "slideshow": {
     "slide_type": "subslide"
    },
    "tags": []
   },
   "outputs": [
    {
     "data": {
      "text/plain": [
       "'{\"id\":\"list_jobs\", \"filter\": {\"start_date\": \"2024-03-18\", \"end_date\": \"2024-03-24\"}}'"
      ]
     },
     "execution_count": 70,
     "metadata": {},
     "output_type": "execute_result"
    }
   ],
   "source": [
    "get_response(\"Show me all jobs from last week\",system)"
   ]
  },
  {
   "cell_type": "code",
   "execution_count": 71,
   "id": "d5069a7382895390",
   "metadata": {
    "ExecuteTime": {
     "end_time": "2024-03-26T07:33:47.027859Z",
     "start_time": "2024-03-26T07:33:43.773874Z"
    },
    "collapsed": false,
    "editable": true,
    "jupyter": {
     "outputs_hidden": false
    },
    "slideshow": {
     "slide_type": "subslide"
    },
    "tags": []
   },
   "outputs": [
    {
     "data": {
      "text/plain": [
       "'{\"id\":\"show_consumption_plot\", \"filter\": {\"start_date\": \"2024-02-14\", \"end_date\": \"2024-02-14\"}}'"
      ]
     },
     "execution_count": 71,
     "metadata": {},
     "output_type": "execute_result"
    }
   ],
   "source": [
    "get_response(\"hur mycket gjorde jag av med på alla hjärtans dag\",system)"
   ]
  },
  {
   "cell_type": "code",
   "execution_count": 72,
   "id": "3e0851471e4b73d6",
   "metadata": {
    "ExecuteTime": {
     "end_time": "2024-03-26T07:33:48.485878Z",
     "start_time": "2024-03-26T07:33:47.029438Z"
    },
    "collapsed": false,
    "editable": true,
    "jupyter": {
     "outputs_hidden": false
    },
    "slideshow": {
     "slide_type": "subslide"
    },
    "tags": []
   },
   "outputs": [
    {
     "data": {
      "text/plain": [
       "'{\"id\":\"noActionFound\"}'"
      ]
     },
     "execution_count": 72,
     "metadata": {},
     "output_type": "execute_result"
    }
   ],
   "source": [
    "get_response(\"Who am I?\",system)"
   ]
  },
  {
   "cell_type": "code",
   "execution_count": null,
   "id": "3b531ca3e101443f",
   "metadata": {
    "collapsed": false,
    "jupyter": {
     "outputs_hidden": false
    }
   },
   "outputs": [],
   "source": []
  }
 ],
 "metadata": {
  "kernelspec": {
   "display_name": "Python 3 (ipykernel)",
   "language": "python",
   "name": "python3"
  },
  "language_info": {
   "codemirror_mode": {
    "name": "ipython",
    "version": 3
   },
   "file_extension": ".py",
   "mimetype": "text/x-python",
   "name": "python",
   "nbconvert_exporter": "python",
   "pygments_lexer": "ipython3",
   "version": "3.12.2"
  }
 },
 "nbformat": 4,
 "nbformat_minor": 5
}
