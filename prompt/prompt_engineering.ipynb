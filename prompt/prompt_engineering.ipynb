{
 "cells": [
  {
   "cell_type": "code",
   "execution_count": 2,
   "id": "initial_id",
   "metadata": {
    "ExecuteTime": {
     "end_time": "2024-03-25T10:18:52.882890Z",
     "start_time": "2024-03-25T10:18:52.620790Z"
    },
    "editable": true,
    "slideshow": {
     "slide_type": "slide"
    },
    "tags": []
   },
   "outputs": [],
   "source": [
    "from openai import OpenAI, AzureOpenAI\n",
    "from dotenv import load_dotenv\n",
    "import os"
   ]
  },
  {
   "cell_type": "markdown",
   "id": "3aff4a552955d75d",
   "metadata": {
    "collapsed": false,
    "editable": true,
    "jupyter": {
     "outputs_hidden": false
    },
    "slideshow": {
     "slide_type": "subslide"
    },
    "tags": []
   },
   "source": [
    "# GAIA Workshop - Prompt Engineering"
   ]
  },
  {
   "cell_type": "code",
   "execution_count": 31,
   "id": "9fba2a7f523c6a72",
   "metadata": {
    "ExecuteTime": {
     "end_time": "2024-03-25T20:25:07.740059Z",
     "start_time": "2024-03-25T20:25:07.734582Z"
    },
    "collapsed": false,
    "editable": true,
    "jupyter": {
     "outputs_hidden": false
    },
    "slideshow": {
     "slide_type": "subslide"
    },
    "tags": []
   },
   "outputs": [
    {
     "data": {
      "text/plain": [
       "True"
      ]
     },
     "execution_count": 31,
     "metadata": {},
     "output_type": "execute_result"
    }
   ],
   "source": [
    "# read keys\n",
    "load_dotenv()\n",
    "# reading AZURE_OPENAI_ENDPOINT and AZURE_OPENAI_KEY from .env file "
   ]
  },
  {
   "cell_type": "markdown",
   "id": "1785490361ba4039",
   "metadata": {
    "collapsed": false,
    "editable": true,
    "jupyter": {
     "outputs_hidden": false
    },
    "slideshow": {
     "slide_type": "subslide"
    },
    "tags": []
   },
   "source": [
    "## Initialize the client\n",
    "Initialize the client, this requires api keys, and in the case of Azure OpenAI, the endpoint. The keys are set as environment variables. \n",
    "The client is used to interact with the OpenAI API."
   ]
  },
  {
   "cell_type": "code",
   "execution_count": 32,
   "id": "44af78e5359141cc",
   "metadata": {
    "ExecuteTime": {
     "end_time": "2024-03-25T20:25:13.585637Z",
     "start_time": "2024-03-25T20:25:13.563723Z"
    },
    "collapsed": false,
    "editable": true,
    "jupyter": {
     "outputs_hidden": false
    },
    "slideshow": {
     "slide_type": "slide"
    },
    "tags": []
   },
   "outputs": [],
   "source": [
    "client = AzureOpenAI( api_version=\"2023-12-01-preview\",)    # if openai's api: OpenAI() "
   ]
  },
  {
   "cell_type": "code",
   "execution_count": null,
   "id": "d3ddb99836907281",
   "metadata": {
    "collapsed": false,
    "editable": true,
    "jupyter": {
     "outputs_hidden": false
    },
    "slideshow": {
     "slide_type": "subslide"
    },
    "tags": []
   },
   "outputs": [],
   "source": [
    "def get_response(user_prompt:str,system_prompt:str,temperature:float=1.0,max_tokens:int=256,)->str:\n",
    "    response = client.chat.completions.create(\n",
    "    model=\"gpt4\",       # if openai's model: \"gpt-4\"  # todo: check! \n",
    "    messages=[\n",
    "        {\n",
    "            \"role\": \"system\",\n",
    "            \"content\": system_prompt,\n",
    "        },\n",
    "        {\"role\": \"user\", \"content\": user_prompt},\n",
    "        # more user prompts can be added here\n",
    "    ],\n",
    "    temperature=temperature,\n",
    "    max_tokens=max_tokens,\n",
    ")\n",
    "    return response.choices[0].message.content"
   ]
  },
  {
   "cell_type": "markdown",
   "id": "797d0c3c6bce01de",
   "metadata": {
    "collapsed": false,
    "editable": true,
    "jupyter": {
     "outputs_hidden": false
    },
    "slideshow": {
     "slide_type": "slide"
    },
    "tags": []
   },
   "source": [
    "# Use case: Changing the system prompt\n",
    "In this example, we will change the system prompt to see how it affects the response.\n"
   ]
  },
  {
   "cell_type": "code",
   "execution_count": 48,
   "id": "32fe2e3be2a470e2",
   "metadata": {
    "ExecuteTime": {
     "end_time": "2024-03-25T20:37:09.630853Z",
     "start_time": "2024-03-25T20:36:59.079727Z"
    },
    "collapsed": false,
    "editable": true,
    "jupyter": {
     "outputs_hidden": false
    },
    "slideshow": {
     "slide_type": "subslide"
    },
    "tags": []
   },
   "outputs": [
    {
     "name": "stdout",
     "output_type": "stream",
     "text": [
      "When visiting Gothenburg, there are several things you can do to make your visit noteworthy:\n",
      "\n",
      "1. Visit Liseberg Amusement Park: This is Scandinavia's largest amusement park which attracts huge crowds year-round, particularly during Christmas.\n",
      "\n",
      "2. Universeum: A seven-floor science center with a rainforest, aquarium and interactive exhibits, which is perfect if you're visiting with children.\n",
      "\n",
      "3. Explore Haga: This is an historical neighborhood with cobbled-street cafes and unique boutiques. It's a perfect spot to chill and enjoy a cup of coffee.\n",
      "\n",
      "4. Gothenburg Botanical Garden: If you love nature, walk through Gothenburg's lush and tranquil Botanical Garden.\n",
      "\n",
      "5. Visit the Maritiman: This is a floating maritime museum, featuring submarines and ships.\n",
      "\n",
      "6. Gothenburg Museum of Art: Art lovers should not miss this one. The museum has an impressive art collection, especially of Nordic art.\n",
      "\n",
      "7. Visit the Fish Market (Feskekorka): Fresh seafood is plentiful in the coastal city of Gothenburg. You can have a seafood meal or even buy some to cook later.\n",
      "\n",
      "8. Archipelago Tour: Take a ferry to the southern Archipelago, a car-free and picturesque zone to relax\n"
     ]
    }
   ],
   "source": [
    "\n",
    "user_prompt = \"What should I do when I'm visiting Gothenburg?\"\n",
    "system_prompt = f\"\"\"You are a helpful assistant that writes an answer to a question. \"\"\"\n",
    "\n",
    "print(get_response(user_prompt,system_prompt))"
   ]
  },
  {
   "cell_type": "code",
   "execution_count": 49,
   "id": "9ad7613542d702f",
   "metadata": {
    "ExecuteTime": {
     "end_time": "2024-03-25T20:38:14.005975Z",
     "start_time": "2024-03-25T20:37:54.136278Z"
    },
    "collapsed": false,
    "jupyter": {
     "outputs_hidden": false
    }
   },
   "outputs": [
    {
     "name": "stdout",
     "output_type": "stream",
     "text": [
      "While in Gothenburg, you might want to explore both its cultural and tech-related offerings.\n",
      "\n",
      "1. Universeum: This is a public science centre and museum that showcases a range of technological and biological exhibits. It's a great place to engage your mind and learn more about the world.\n",
      "\n",
      "2. Volvo Museum: If you’re interested in technology, particularly automotive technology, this could be a great place to visit. The museum presents the history of Volvo and the technological progression of their vehicles.\n",
      "\n",
      "3. Chalmers University of Technology: If possible, try to take a tour of this prestigious institution, they specialize in technology, natural science, architecture, maritime and other management areas.\n",
      "\n",
      "4. Lindholmen Science Park: This is one of Sweden’s most advanced and diverse business landscapes with a focus on mobile technologies and digital innovation. They often host events and conferences centered around tech.\n",
      "\n",
      "Remember to also check out Gothenburg's cultural side. Visit the Gothenburg Museum of Art, Universeum, the picturesque neighborhood Haga, the Southern Archipelago, and Liseberg amusement park. The city is also famous for its seafood, so don't miss out on that. Lastly, to navigate around the city, you can use the comprehensive public transportation system which includes buses,\n"
     ]
    }
   ],
   "source": [
    "system_prompt = f\"\"\"You are a helpful assistant that writes an answer to a question, with a tech perspective. \"\"\"\n",
    "print(get_response(user_prompt,system_prompt))\n"
   ]
  },
  {
   "cell_type": "code",
   "execution_count": 51,
   "id": "e40405d2d16ca28b",
   "metadata": {
    "ExecuteTime": {
     "end_time": "2024-03-25T20:40:51.217653Z",
     "start_time": "2024-03-25T20:40:46.323503Z"
    },
    "collapsed": false,
    "jupyter": {
     "outputs_hidden": false
    }
   },
   "outputs": [
    {
     "name": "stdout",
     "output_type": "stream",
     "text": [
      "You should definitely try some seafood, enjoy the beautiful archipelago, and visit Universeum. But beware, if you find yourself talking to a local, you might end up listening to a punny 'göteborgsvits'. You know - \"Why don't seagulls fly over the bay? Because then they'd be bagels (bay-gulls)!\"\n"
     ]
    }
   ],
   "source": [
    "system_prompt = f\"\"\"You are a helpful assistant that writes an answer to a question. Make the answer short, concise and funny.(if possible add what we call a göteborgsvits) \"\"\"\n",
    "print(get_response(user_prompt,system_prompt))\n"
   ]
  },
  {
   "cell_type": "markdown",
   "id": "6b5a23256ed7df3e",
   "metadata": {
    "collapsed": false,
    "jupyter": {
     "outputs_hidden": false
    }
   },
   "source": [
    "## Use case: Generate data examples"
   ]
  },
  {
   "cell_type": "code",
   "execution_count": 39,
   "id": "fe2a0b53339be2b0",
   "metadata": {
    "ExecuteTime": {
     "end_time": "2024-03-25T20:31:24.275968Z",
     "start_time": "2024-03-25T20:31:07.089450Z"
    },
    "collapsed": false,
    "jupyter": {
     "outputs_hidden": false
    }
   },
   "outputs": [
    {
     "data": {
      "text/plain": [
       "'[\\n    {\\n        \"temperature\": 22,\\n        \"weather\": \"Sunny\",\\n        \"location\": \"Los Angeles, California\"\\n    },\\n    {\\n        \"temperature\": 18,\\n        \"weather\": \"Cloudy\",\\n        \"location\": \"Sydney, Australia\"\\n    },\\n    {\\n        \"temperature\": 14,\\n        \"weather\": \"Rainy\",\\n        \"location\": \"Paris, France\"\\n    },\\n    {\\n        \"temperature\": 28,\\n        \"weather\": \"Humid\",\\n        \"location\": \"Singapore\"\\n    },\\n    {\\n        \"temperature\": 5,\\n        \"weather\": \"Snowy\",\\n        \"location\": \"Moscow, Russia\"\\n    },\\n    {\\n        \"temperature\": 30,\\n        \"weather\": \"Sunny\",\\n        \"location\": \"Dubai, United Arab Emirates\"\\n    },\\n    {\\n        \"temperature\": 23,\\n        \"weather\": \"Clear\",\\n        \"location\": \"Barcelona, Spain\"\\n    },\\n    {\\n        \"temperature\": 12,\\n        \"weather\": \"Windy\",\\n        \"location\": \"Chicago, Illinois\"\\n    },\\n    {\\n        \"temperature\": 24,\\n        \"weather\": \"Sunny\",\\n        \"location\": \"Cape Town, South'"
      ]
     },
     "execution_count": 39,
     "metadata": {},
     "output_type": "execute_result"
    }
   ],
   "source": [
    "system = f\"\"\"You are a helpful assistant that answers questions about the weather.\n",
    "             The response should be a json with the following fields, temperature, weather, and location.\n",
    "             The temperature should be in celsius, the weather should be a string describing the weather, and the location should be a string describing the location. \"\"\"\n",
    "get_response(\"Generate 10 examples in a list\",system)"
   ]
  },
  {
   "cell_type": "markdown",
   "id": "e607e9f22e5b033d",
   "metadata": {
    "collapsed": false,
    "jupyter": {
     "outputs_hidden": false
    }
   },
   "source": [
    "## Example: Find actions and filters"
   ]
  },
  {
   "cell_type": "code",
   "execution_count": 41,
   "id": "39423c498a4ff6c7",
   "metadata": {
    "ExecuteTime": {
     "end_time": "2024-03-25T20:32:49.800229Z",
     "start_time": "2024-03-25T20:32:49.797115Z"
    },
    "collapsed": false,
    "editable": true,
    "jupyter": {
     "outputs_hidden": false
    },
    "slideshow": {
     "slide_type": ""
    },
    "tags": []
   },
   "outputs": [],
   "source": [
    "from datetime import datetime\n",
    "\n",
    "system = f\"\"\"You are a helpful assistant that maps queries into actions.\n",
    "    The actions are described in the following way:\n",
    "    - Name: Description of the action.\n",
    "    \n",
    "    Actions:\n",
    "    - list_jobs: List all executed jobs\n",
    "    - show_consumption_plot: Show a plot showing the consumption of material\n",
    "    - show_help: Show help information\n",
    "    - show_material: Show information about a specific material\n",
    "        \n",
    "    If you can match the query to an action, return the ID of that action,  if not return '{{\"id\":\"noActionFound\"}}'.\n",
    "    The response should be a json with the following fields, id and filter.\n",
    "    Identify if a date or date range is specified in the query, if so add it to the filter by defining a start_date and a end_date. Todays date is {datetime.today()}.\n",
    "    Weeks starts at mondays. The date format is \"YYYY-MM-DD\".\n",
    "    'Example: {{\"id\":\"action_id\", \"filter\": {{\"start_date\": \"2022-01-01\", \"end_date\": \"2022-01-31\"}}}} \"\"\"\n"
   ]
  },
  {
   "cell_type": "code",
   "execution_count": 42,
   "id": "3fe2547a65f8e84f",
   "metadata": {
    "ExecuteTime": {
     "end_time": "2024-03-25T20:32:52.182305Z",
     "start_time": "2024-03-25T20:32:50.665572Z"
    },
    "collapsed": false,
    "jupyter": {
     "outputs_hidden": false
    }
   },
   "outputs": [
    {
     "data": {
      "text/plain": [
       "'{\"id\":\"list_jobs\", \"filter\": {}}'"
      ]
     },
     "execution_count": 42,
     "metadata": {},
     "output_type": "execute_result"
    }
   ],
   "source": [
    "get_response(\"Show me all jobs\",system)"
   ]
  },
  {
   "cell_type": "code",
   "execution_count": 43,
   "id": "3c0667ba0b097f1",
   "metadata": {
    "ExecuteTime": {
     "end_time": "2024-03-25T20:33:01.166543Z",
     "start_time": "2024-03-25T20:32:58.815272Z"
    },
    "collapsed": false,
    "jupyter": {
     "outputs_hidden": false
    }
   },
   "outputs": [
    {
     "data": {
      "text/plain": [
       "'{\"id\":\"list_jobs\", \"filter\": {\"start_date\": \"2024-03-11\", \"end_date\": \"2024-03-17\"}}'"
      ]
     },
     "execution_count": 43,
     "metadata": {},
     "output_type": "execute_result"
    }
   ],
   "source": [
    "get_response(\"Show me all jobs from last week\",system)"
   ]
  },
  {
   "cell_type": "code",
   "execution_count": 44,
   "id": "d5069a7382895390",
   "metadata": {
    "ExecuteTime": {
     "end_time": "2024-03-25T20:33:33.130741Z",
     "start_time": "2024-03-25T20:33:31.469673Z"
    },
    "collapsed": false,
    "jupyter": {
     "outputs_hidden": false
    }
   },
   "outputs": [
    {
     "data": {
      "text/plain": [
       "'{\"id\":\"show_consumption_plot\", \"filter\": {\"start_date\": \"2024-02-14\", \"end_date\": \"2024-02-14\"}}'"
      ]
     },
     "execution_count": 44,
     "metadata": {},
     "output_type": "execute_result"
    }
   ],
   "source": [
    "get_response(\"hur mycket gjorde jag av med på alla hjärtans dag\",system)"
   ]
  },
  {
   "cell_type": "code",
   "execution_count": 45,
   "id": "3e0851471e4b73d6",
   "metadata": {
    "ExecuteTime": {
     "end_time": "2024-03-25T20:33:52.148109Z",
     "start_time": "2024-03-25T20:33:51.194791Z"
    },
    "collapsed": false,
    "jupyter": {
     "outputs_hidden": false
    }
   },
   "outputs": [
    {
     "data": {
      "text/plain": [
       "'{\"id\":\"noActionFound\"}'"
      ]
     },
     "execution_count": 45,
     "metadata": {},
     "output_type": "execute_result"
    }
   ],
   "source": [
    "get_response(\"Who am I?\",system)"
   ]
  },
  {
   "cell_type": "code",
   "execution_count": null,
   "id": "1c2a5a0d389fcebc",
   "metadata": {
    "collapsed": false,
    "jupyter": {
     "outputs_hidden": false
    }
   },
   "outputs": [],
   "source": []
  }
 ],
 "metadata": {
  "kernelspec": {
   "display_name": "Python 3 (ipykernel)",
   "language": "python",
   "name": "python3"
  },
  "language_info": {
   "codemirror_mode": {
    "name": "ipython",
    "version": 3
   },
   "file_extension": ".py",
   "mimetype": "text/x-python",
   "name": "python",
   "nbconvert_exporter": "python",
   "pygments_lexer": "ipython3",
   "version": "3.12.2"
  }
 },
 "nbformat": 4,
 "nbformat_minor": 5
}
