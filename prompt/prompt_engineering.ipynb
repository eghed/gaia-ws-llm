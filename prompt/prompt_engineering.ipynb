{
 "cells": [
  {
   "cell_type": "code",
   "execution_count": 1,
   "id": "initial_id",
   "metadata": {
    "collapsed": true,
    "ExecuteTime": {
     "end_time": "2024-03-24T21:26:57.805511Z",
     "start_time": "2024-03-24T21:26:56.599910Z"
    }
   },
   "outputs": [],
   "source": [
    "from openai import OpenAI\n",
    "from dotenv import load_dotenv"
   ]
  },
  {
   "cell_type": "code",
   "outputs": [],
   "source": [
    "# read keys\n",
    "load_dotenv()"
   ],
   "metadata": {
    "collapsed": false
   },
   "id": "b96bff388d69858d"
  },
  {
   "cell_type": "markdown",
   "source": [
    "# Prompt Engineering\n",
    "\n",
    "There are plenty of guides on how to generate good prompts. [add some links here]\n",
    "\n",
    "Here we will show some examples on the difference between some examples. and a use-case where only prompting is enough for creating a good feature\n"
   ],
   "metadata": {
    "collapsed": false
   },
   "id": "797d0c3c6bce01de"
  },
  {
   "cell_type": "code",
   "outputs": [],
   "source": [
    "# example's where different system prompts are used .\n",
    "# example 1\n"
   ],
   "metadata": {
    "collapsed": false
   },
   "id": "fe2a0b53339be2b0"
  },
  {
   "cell_type": "code",
   "outputs": [],
   "source": [
    "# temperature ? "
   ],
   "metadata": {
    "collapsed": false
   },
   "id": "fc2114468b27620c"
  }
 ],
 "metadata": {
  "kernelspec": {
   "display_name": "Python 3",
   "language": "python",
   "name": "python3"
  },
  "language_info": {
   "codemirror_mode": {
    "name": "ipython",
    "version": 2
   },
   "file_extension": ".py",
   "mimetype": "text/x-python",
   "name": "python",
   "nbconvert_exporter": "python",
   "pygments_lexer": "ipython2",
   "version": "2.7.6"
  }
 },
 "nbformat": 4,
 "nbformat_minor": 5
}
