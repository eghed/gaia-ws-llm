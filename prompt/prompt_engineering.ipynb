{
 "cells": [
  {
   "cell_type": "markdown",
   "id": "3aff4a552955d75d",
   "metadata": {
    "collapsed": false,
    "editable": true,
    "jupyter": {
     "outputs_hidden": false
    },
    "slideshow": {
     "slide_type": "slide"
    },
    "tags": []
   },
   "source": [
    "# GAIA Workshop - Prompt Engineering"
   ]
  },
  {
   "cell_type": "code",
   "id": "initial_id",
   "metadata": {
    "editable": true,
    "slideshow": {
     "slide_type": "subslide"
    },
    "tags": [],
    "ExecuteTime": {
     "end_time": "2024-04-25T20:21:12.159460Z",
     "start_time": "2024-04-25T20:21:11.849392Z"
    }
   },
   "source": [
    "from openai import OpenAI, AzureOpenAI\n",
    "from dotenv import load_dotenv"
   ],
   "outputs": [],
   "execution_count": 1
  },
  {
   "cell_type": "code",
   "id": "9fba2a7f523c6a72",
   "metadata": {
    "collapsed": false,
    "editable": true,
    "jupyter": {
     "outputs_hidden": false
    },
    "slideshow": {
     "slide_type": "subslide"
    },
    "tags": [],
    "ExecuteTime": {
     "end_time": "2024-04-25T20:21:12.164159Z",
     "start_time": "2024-04-25T20:21:12.160451Z"
    }
   },
   "source": [
    "# read keys\n",
    "load_dotenv()\n",
    "# .env \n",
    "# reading AZURE_OPENAI_ENDPOINT and AZURE_OPENAI_KEY from .env file "
   ],
   "outputs": [
    {
     "data": {
      "text/plain": [
       "True"
      ]
     },
     "execution_count": 2,
     "metadata": {},
     "output_type": "execute_result"
    }
   ],
   "execution_count": 2
  },
  {
   "cell_type": "markdown",
   "id": "1785490361ba4039",
   "metadata": {
    "collapsed": false,
    "editable": true,
    "jupyter": {
     "outputs_hidden": false
    },
    "slideshow": {
     "slide_type": "slide"
    },
    "tags": []
   },
   "source": [
    "## Initialize the client\n",
    "Initialize the client, this requires api keys, and in the case of Azure OpenAI, the endpoint. The keys are set as environment variables. \n",
    "The client is used to interact with the OpenAI API."
   ]
  },
  {
   "cell_type": "code",
   "id": "44af78e5359141cc",
   "metadata": {
    "collapsed": false,
    "editable": true,
    "jupyter": {
     "outputs_hidden": false
    },
    "slideshow": {
     "slide_type": "subslide"
    },
    "tags": [],
    "ExecuteTime": {
     "end_time": "2024-04-25T20:21:12.175339Z",
     "start_time": "2024-04-25T20:21:12.164773Z"
    }
   },
   "source": [
    "client = AzureOpenAI( api_version=\"2023-12-01-preview\",)    # if openai's api: OpenAI() "
   ],
   "outputs": [],
   "execution_count": 3
  },
  {
   "cell_type": "code",
   "id": "d3ddb99836907281",
   "metadata": {
    "collapsed": false,
    "editable": true,
    "jupyter": {
     "outputs_hidden": false
    },
    "slideshow": {
     "slide_type": "subslide"
    },
    "tags": [],
    "ExecuteTime": {
     "end_time": "2024-04-25T20:21:12.177923Z",
     "start_time": "2024-04-25T20:21:12.175925Z"
    }
   },
   "source": [
    "def get_response(user_prompt:str,system_prompt:str,temperature:float=1.0,max_tokens:int=256,)->str:\n",
    "    response = client.chat.completions.create(\n",
    "    model=\"gpt4\",       # if openai's model: \"gpt-4\"  # todo: check! \n",
    "    messages=[\n",
    "        {\n",
    "            \"role\": \"system\",\n",
    "            \"content\": system_prompt,\n",
    "        },\n",
    "        {\"role\": \"user\", \"content\": user_prompt},\n",
    "        # more user prompts can be added here\n",
    "    ],\n",
    "    temperature=temperature,\n",
    "    max_tokens=max_tokens,\n",
    ")\n",
    "    return response.choices[0].message.content"
   ],
   "outputs": [],
   "execution_count": 4
  },
  {
   "cell_type": "markdown",
   "id": "797d0c3c6bce01de",
   "metadata": {
    "collapsed": false,
    "editable": true,
    "jupyter": {
     "outputs_hidden": false
    },
    "slideshow": {
     "slide_type": "slide"
    },
    "tags": []
   },
   "source": [
    "# Use case: Changing the system prompt\n",
    "In this example, we will change the system prompt to see how it affects the response.\n"
   ]
  },
  {
   "cell_type": "code",
   "id": "32fe2e3be2a470e2",
   "metadata": {
    "collapsed": false,
    "editable": true,
    "jupyter": {
     "outputs_hidden": false
    },
    "slideshow": {
     "slide_type": "subslide"
    },
    "tags": [],
    "ExecuteTime": {
     "end_time": "2024-04-25T20:21:30.205171Z",
     "start_time": "2024-04-25T20:21:12.179622Z"
    }
   },
   "source": [
    "\n",
    "user_prompt = \"What should I do when I'm visiting Gothenburg?\"\n",
    "system_prompt = f\"\"\"You are a helpful assistant that writes an answer to a question. \"\"\"\n",
    "\n",
    "print(get_response(user_prompt,system_prompt))"
   ],
   "outputs": [
    {
     "name": "stdout",
     "output_type": "stream",
     "text": [
      "When visiting Gothenburg in Sweden, there are many activities to participate in and sights to see. Here are a few suggestions:\n",
      "\n",
      "1. Visit Universeum: It is a science center with a rainforest, aquarium and a wide range of animals. It’s very family-friendly and a good choice for anyone interested in natural science.\n",
      "\n",
      "2. Liseberg Amusement Park: One of the most popular attractions in Sweden, Liseberg offers a range of rides and traditional sideshows for all ages. It also hosts concerts during the summer and transforms into a festive Christmas market in winter.\n",
      "\n",
      "3. Explore Archipelago: The Gothenburg archipelago is a stunning natural beauty. Take a ferry from the city center to reach the quiet, car-free islands.\n",
      "\n",
      "4. Visit the Gothenburg Museum of Art: It consists of works from the 15th century to today with a special emphasis on Nordic art. \n",
      "\n",
      "5. Walk around Haga: Gothenburg's oldest suburb is a pedestrian zone filled with cafés and small shops. Be sure to try \"Hagabullen\", a local cinnamon bun.\n",
      "\n",
      "6. Gothenburg Botanical Garden: It's one of the larger botanical gardens in Europe. A perfect place for a peaceful walk or picnic.\n"
     ]
    }
   ],
   "execution_count": 5
  },
  {
   "cell_type": "code",
   "id": "9ad7613542d702f",
   "metadata": {
    "collapsed": false,
    "editable": true,
    "jupyter": {
     "outputs_hidden": false
    },
    "slideshow": {
     "slide_type": "subslide"
    },
    "tags": [],
    "ExecuteTime": {
     "end_time": "2024-04-25T20:21:48.598116Z",
     "start_time": "2024-04-25T20:21:30.207280Z"
    }
   },
   "source": [
    "system_prompt = f\"\"\"You are a helpful assistant that writes an answer to a question, with a tech perspective. \"\"\"\n",
    "print(get_response(user_prompt,system_prompt))\n"
   ],
   "outputs": [
    {
     "name": "stdout",
     "output_type": "stream",
     "text": [
      "Gothenburg is a vibrant and technologically advanced city in Sweden, and there are several things that you can do when you visit that will allow you to experience the city's tech side:\n",
      "\n",
      "1. Universeum: This is a public science center that visitors can explore. It houses exhibitions about the human body, aquatic life, rain forest animals and plants, space, and more. They utilize cutting-edge technology in their exhibits, including VR experiences.\n",
      "\n",
      "2. Visit Lindholmen Science Park: This is a technological hub where academia, business, and society collaborate to produce new solutions and technologies. They regularly host events, like workshops and seminars that you can attend.\n",
      "\n",
      "3. Museum of World Culture: This museum uses modern technology to render exceptional exhibits about global and cultural history. From computerized interactive displays to high-tech projections, this museum is a testament to the intermingling of technology and culture.\n",
      "\n",
      "4. Volvo Museum: If you're interested in automobiles and their technology, a visit to Volvo's museum is a must. The museum displays the history and evolution of Volvo cars.\n",
      "\n",
      "5. Gothenburg's City Library: With unique architecture and more than a million volumes of books, the library now is something of a technological marvel with digital archives, online resources, and a variety of\n"
     ]
    }
   ],
   "execution_count": 6
  },
  {
   "cell_type": "code",
   "id": "e40405d2d16ca28b",
   "metadata": {
    "collapsed": false,
    "editable": true,
    "jupyter": {
     "outputs_hidden": false
    },
    "slideshow": {
     "slide_type": "subslide"
    },
    "tags": [],
    "ExecuteTime": {
     "end_time": "2024-04-25T20:21:52.939984Z",
     "start_time": "2024-04-25T20:21:48.600043Z"
    }
   },
   "source": [
    "system_prompt = f\"\"\"You are a helpful assistant that writes an answer to a question. Make the answer short, concise and funny.(if possible add what we call a göteborgsvits) \"\"\"\n",
    "print(get_response(user_prompt,system_prompt))\n"
   ],
   "outputs": [
    {
     "name": "stdout",
     "output_type": "stream",
     "text": [
      "Well, don't forget to pack an umbrella. It's called \"Rainyburg\" for a reason. And also, remember to laugh at their puns. They're known for their “göteborgsvitsar” because humor is their second nature. They say, \"In Gothenburg, we don't have bad weather, just bad clothes.\"\n"
     ]
    }
   ],
   "execution_count": 7
  },
  {
   "cell_type": "markdown",
   "id": "6b5a23256ed7df3e",
   "metadata": {
    "collapsed": false,
    "editable": true,
    "jupyter": {
     "outputs_hidden": false
    },
    "slideshow": {
     "slide_type": "slide"
    },
    "tags": []
   },
   "source": [
    "## Use case: Generate data examples"
   ]
  },
  {
   "cell_type": "code",
   "id": "fe2a0b53339be2b0",
   "metadata": {
    "collapsed": false,
    "editable": true,
    "jupyter": {
     "outputs_hidden": false
    },
    "slideshow": {
     "slide_type": "subslide"
    },
    "tags": [],
    "ExecuteTime": {
     "end_time": "2024-04-25T20:22:07.461837Z",
     "start_time": "2024-04-25T20:21:52.941274Z"
    }
   },
   "source": [
    "system = f\"\"\"You are a helpful assistant that answers questions about the weather.\n",
    "             The response should be a json with the following fields, temperature, weather, and location.\n",
    "             The temperature should be in celsius, the weather should be a string describing the weather, and the location should be a string describing the location. \"\"\"\n",
    "print(get_response(\"Generate 10 examples in a list\",system))"
   ],
   "outputs": [
    {
     "name": "stdout",
     "output_type": "stream",
     "text": [
      "[\n",
      "  {\n",
      "    \"temperature\": 22,\n",
      "    \"weather\": \"Sunny\",\n",
      "    \"location\": \"Los Angeles, USA\"\n",
      "  },\n",
      "  {\n",
      "    \"temperature\": -2,\n",
      "    \"weather\": \"Snowy\",\n",
      "    \"location\": \"Alberta, Canada\"\n",
      "  },\n",
      "  {\n",
      "    \"temperature\": 30,\n",
      "    \"weather\": \"Hot and sunny\",\n",
      "    \"location\": \"Miami, USA\"\n",
      "  },\n",
      "  {\n",
      "    \"temperature\": 16,\n",
      "    \"weather\": \"Cloudy with chance of rain\",\n",
      "    \"location\": \"London, UK\"\n",
      "  },\n",
      "  {\n",
      "    \"temperature\": 14,\n",
      "    \"weather\": \"Partly cloudy\",\n",
      "    \"location\": \"Sydney, Australia\"\n",
      "  },\n",
      "  {\n",
      "    \"temperature\": 25,\n",
      "    \"weather\": \"Sunny with light breeze\",\n",
      "    \"location\": \"Barcelona, Spain\"\n",
      "  },\n",
      "  {\n",
      "    \"temperature\": -5,\n",
      "    \"weather\": \"Snowstorm\",\n",
      "    \"location\": \"Moscow, Russia\"\n",
      "  },\n",
      "  {\n",
      "    \"temperature\": 27,\n",
      "    \"weather\": \"Tropical thunderstorm\",\n",
      "    \"location\": \"Jakarta, Indonesia\"\n",
      "  },\n",
      "  {\n",
      "    \"temperature\": 33,\n",
      "    \"weather\": \"\n"
     ]
    }
   ],
   "execution_count": 8
  },
  {
   "cell_type": "markdown",
   "id": "e607e9f22e5b033d",
   "metadata": {
    "collapsed": false,
    "editable": true,
    "jupyter": {
     "outputs_hidden": false
    },
    "slideshow": {
     "slide_type": "slide"
    },
    "tags": []
   },
   "source": [
    "## Example: Find actions and filters"
   ]
  },
  {
   "cell_type": "code",
   "id": "39423c498a4ff6c7",
   "metadata": {
    "collapsed": false,
    "editable": true,
    "jupyter": {
     "outputs_hidden": false
    },
    "slideshow": {
     "slide_type": "subslide"
    },
    "tags": [],
    "ExecuteTime": {
     "end_time": "2024-04-25T20:22:07.467110Z",
     "start_time": "2024-04-25T20:22:07.463731Z"
    }
   },
   "source": [
    "from datetime import datetime\n",
    "\n",
    "system = f\"\"\"You are a helpful assistant that maps queries into actions.\n",
    "    The actions are described in the following way:\n",
    "    - Name: Description of the action.\n",
    "    \n",
    "    Actions:\n",
    "    - list_jobs: List all executed jobs\n",
    "    - show_consumption_plot: Show a plot showing the consumption of material\n",
    "    - show_help: Show help information\n",
    "    - show_material: Show information about a specific material\n",
    "        \n",
    "    If you can match the query to an action, return the ID of that action,  if not return '{{\"id\":\"noActionFound\"}}'.\n",
    "    The response should be a json with the following fields, id and filter.\n",
    "    Identify if a date or date range is specified in the query, if so add it to the filter by defining a start_date and a end_date. Todays date is {datetime.today()}.\n",
    "    Weeks starts at mondays. The date format is \"YYYY-MM-DD\".\n",
    "    'Example: {{\"id\":\"action_id\", \"filter\": {{\"start_date\": \"2022-01-01\", \"end_date\": \"2022-01-31\"}}}} \"\"\"\n"
   ],
   "outputs": [],
   "execution_count": 9
  },
  {
   "cell_type": "code",
   "id": "3fe2547a65f8e84f",
   "metadata": {
    "collapsed": false,
    "editable": true,
    "jupyter": {
     "outputs_hidden": false
    },
    "slideshow": {
     "slide_type": "subslide"
    },
    "tags": [],
    "ExecuteTime": {
     "end_time": "2024-04-25T20:22:08.687775Z",
     "start_time": "2024-04-25T20:22:07.468345Z"
    }
   },
   "source": [
    "get_response(\"Show me all jobs\",system)"
   ],
   "outputs": [
    {
     "data": {
      "text/plain": [
       "'{\"id\": \"list_jobs\", \"filter\": {}}'"
      ]
     },
     "execution_count": 10,
     "metadata": {},
     "output_type": "execute_result"
    }
   ],
   "execution_count": 10
  },
  {
   "cell_type": "code",
   "id": "3c0667ba0b097f1",
   "metadata": {
    "collapsed": false,
    "editable": true,
    "jupyter": {
     "outputs_hidden": false
    },
    "slideshow": {
     "slide_type": "subslide"
    },
    "tags": [],
    "ExecuteTime": {
     "end_time": "2024-04-25T20:22:11.508498Z",
     "start_time": "2024-04-25T20:22:08.689374Z"
    }
   },
   "source": [
    "get_response(\"Show me all jobs from last week\",system)"
   ],
   "outputs": [
    {
     "data": {
      "text/plain": [
       "'{\"id\": \"list_jobs\", \"filter\": {\"start_date\": \"2024-04-15\", \"end_date\": \"2024-04-21\"}}'"
      ]
     },
     "execution_count": 11,
     "metadata": {},
     "output_type": "execute_result"
    }
   ],
   "execution_count": 11
  },
  {
   "cell_type": "code",
   "id": "d5069a7382895390",
   "metadata": {
    "collapsed": false,
    "editable": true,
    "jupyter": {
     "outputs_hidden": false
    },
    "slideshow": {
     "slide_type": "subslide"
    },
    "tags": [],
    "ExecuteTime": {
     "end_time": "2024-04-25T20:22:13.528593Z",
     "start_time": "2024-04-25T20:22:11.510288Z"
    }
   },
   "source": [
    "get_response(\"hur mycket gjorde jag av med på alla hjärtans dag\",system)"
   ],
   "outputs": [
    {
     "data": {
      "text/plain": [
       "'{\"id\":\"show_consumption_plot\", \"filter\": {\"start_date\": \"2024-02-14\", \"end_date\": \"2024-02-14\"}}'"
      ]
     },
     "execution_count": 12,
     "metadata": {},
     "output_type": "execute_result"
    }
   ],
   "execution_count": 12
  },
  {
   "cell_type": "code",
   "id": "3e0851471e4b73d6",
   "metadata": {
    "collapsed": false,
    "editable": true,
    "jupyter": {
     "outputs_hidden": false
    },
    "slideshow": {
     "slide_type": "subslide"
    },
    "tags": [],
    "ExecuteTime": {
     "end_time": "2024-04-25T20:22:14.261146Z",
     "start_time": "2024-04-25T20:22:13.530100Z"
    }
   },
   "source": [
    "get_response(\"Who am I?\",system)"
   ],
   "outputs": [
    {
     "data": {
      "text/plain": [
       "'{\"id\":\"noActionFound\"}'"
      ]
     },
     "execution_count": 13,
     "metadata": {},
     "output_type": "execute_result"
    }
   ],
   "execution_count": 13
  },
  {
   "cell_type": "code",
   "id": "3b531ca3e101443f",
   "metadata": {
    "collapsed": false,
    "jupyter": {
     "outputs_hidden": false
    },
    "ExecuteTime": {
     "end_time": "2024-04-25T20:22:14.266352Z",
     "start_time": "2024-04-25T20:22:14.264411Z"
    }
   },
   "source": [],
   "outputs": [],
   "execution_count": 13
  }
 ],
 "metadata": {
  "kernelspec": {
   "display_name": "Python 3 (ipykernel)",
   "language": "python",
   "name": "python3"
  },
  "language_info": {
   "codemirror_mode": {
    "name": "ipython",
    "version": 3
   },
   "file_extension": ".py",
   "mimetype": "text/x-python",
   "name": "python",
   "nbconvert_exporter": "python",
   "pygments_lexer": "ipython3",
   "version": "3.12.2"
  }
 },
 "nbformat": 4,
 "nbformat_minor": 5
}
