{
 "cells": [
  {
   "cell_type": "code",
   "id": "initial_id",
   "metadata": {
    "collapsed": true,
    "editable": true,
    "jupyter": {
     "outputs_hidden": true
    },
    "slideshow": {
     "slide_type": "skip"
    },
    "tags": [],
    "ExecuteTime": {
     "end_time": "2024-04-25T20:18:32.064010Z",
     "start_time": "2024-04-25T20:18:31.412674Z"
    }
   },
   "source": [
    "from langchain import hub\n",
    "from langchain_community.vectorstores import Chroma\n",
    "from langchain_core.output_parsers import StrOutputParser\n",
    "from langchain_core.runnables import RunnablePassthrough\n",
    "from langchain_openai import ChatOpenAI, OpenAIEmbeddings,AzureChatOpenAI,AzureOpenAIEmbeddings\n",
    "from langchain_text_splitters import RecursiveCharacterTextSplitter\n",
    "from langchain_core.prompts import ChatPromptTemplate\n",
    "\n",
    "import os\n",
    "from langchain_community.document_loaders import WikipediaLoader\n",
    "from pathlib import Path\n",
    "import dotenv\n",
    "\n",
    "dotenv.load_dotenv()"
   ],
   "outputs": [
    {
     "data": {
      "text/plain": [
       "True"
      ]
     },
     "execution_count": 1,
     "metadata": {},
     "output_type": "execute_result"
    }
   ],
   "execution_count": 1
  },
  {
   "cell_type": "markdown",
   "id": "4cf898e20d06b47",
   "metadata": {
    "collapsed": false,
    "editable": true,
    "jupyter": {
     "outputs_hidden": false
    },
    "slideshow": {
     "slide_type": "slide"
    },
    "tags": []
   },
   "source": [
    "# RAG \n",
    "Using the RAG model to generate answers to questions based on a given context.\n",
    "The code is based on Langchain and the Langchain community packages.\n",
    "\n",
    "## Dataset\n",
    "In this example we will utilize the WikipediaLoader to load a few documents about Gothenburg, Sweden. There are plenty of other loaders available in the Langchain community package.\n",
    "For example, to load data from pdfs, html, or other sources.\n",
    "**The data needs to be cleaned!** (skipped in this example)"
   ]
  },
  {
   "cell_type": "code",
   "id": "e374dd8b1de8b7f0",
   "metadata": {
    "collapsed": false,
    "editable": true,
    "jupyter": {
     "outputs_hidden": false
    },
    "slideshow": {
     "slide_type": "subslide"
    },
    "tags": [],
    "ExecuteTime": {
     "end_time": "2024-04-25T20:18:37.202508Z",
     "start_time": "2024-04-25T20:18:32.064848Z"
    }
   },
   "source": [
    "loader = WikipediaLoader(query=\"Gothenburg,Sweden\", lang=\"en\",load_max_docs=5)\n",
    "docs = loader.load()"
   ],
   "outputs": [],
   "execution_count": 2
  },
  {
   "cell_type": "code",
   "id": "ae2d681966c5a58c",
   "metadata": {
    "collapsed": false,
    "editable": true,
    "jupyter": {
     "outputs_hidden": false
    },
    "slideshow": {
     "slide_type": "subslide"
    },
    "tags": [],
    "ExecuteTime": {
     "end_time": "2024-04-25T20:18:37.207899Z",
     "start_time": "2024-04-25T20:18:37.204008Z"
    }
   },
   "source": [
    "for i,doc in enumerate(docs):\n",
    "    print(f\"Source: {i} - Length:{len(doc.page_content)} - Url:{doc.metadata[\"source\"]} - {doc.page_content[:100]} \")"
   ],
   "outputs": [
    {
     "name": "stdout",
     "output_type": "stream",
     "text": [
      "Source: 0 - Length:4000 - Url:https://en.wikipedia.org/wiki/Gothenburg - Gothenburg ( ; abbreviated Gbg; Swedish: Göteborg [jœtɛˈbɔrj] ) is the capital of Västra Götaland Co \n",
      "Source: 1 - Length:4000 - Url:https://en.wikipedia.org/wiki/University_of_Gothenburg - The University of Gothenburg (Swedish: Göteborgs universitet) is a university in Sweden's second lar \n",
      "Source: 2 - Length:3598 - Url:https://en.wikipedia.org/wiki/List_of_metropolitan_areas_in_Sweden - Sweden has three metropolitan areas consisting of the areas surrounding the three largest cities, St \n",
      "Source: 3 - Length:4000 - Url:https://en.wikipedia.org/wiki/Swedish_East_India_Company - The Swedish East India Company (Swedish: Svenska Ostindiska Companiet or SOIC) was founded in Gothen \n",
      "Source: 4 - Length:4000 - Url:https://en.wikipedia.org/wiki/Gothenburg,_Nebraska - Gothenburg is a city in Dawson County, Nebraska, United States. It is part of the Lexington, Nebrask \n"
     ]
    }
   ],
   "execution_count": 3
  },
  {
   "cell_type": "markdown",
   "id": "e88005337b6d5d36",
   "metadata": {
    "collapsed": false,
    "editable": true,
    "jupyter": {
     "outputs_hidden": false
    },
    "slideshow": {
     "slide_type": "slide"
    },
    "tags": []
   },
   "source": [
    "## Split data\n",
    "Split the data into smaller chunks to be able to retrieve and generate answers based on the relevant context.\n",
    "Chunk size and overlap can be adjusted to fit the specific use case - but also where to split the text.\n",
    "\n",
    "The *RecursiveCharacterTextSplitter* is a generic text splitter, that tries to split the text into chunks of a specific size, while trying to keep the sentences intact by splitting at ([\"\\n\\n\", \"\\n\", \" \", \"\"]).\n",
    "There are also other text splitters, for example HTMLsplitter, json splitter, etc."
   ]
  },
  {
   "cell_type": "code",
   "id": "3ce938ddaca4b552",
   "metadata": {
    "collapsed": false,
    "jupyter": {
     "outputs_hidden": false
    },
    "ExecuteTime": {
     "end_time": "2024-04-25T20:18:37.214616Z",
     "start_time": "2024-04-25T20:18:37.210272Z"
    }
   },
   "source": [
    "text_splitter = RecursiveCharacterTextSplitter(chunk_size=1000, chunk_overlap=200)   # chunk size - how many characters in each chunk, chunk overlap - how many characters to overlap\n",
    "splits = text_splitter.split_documents(docs)\n",
    "\n",
    "1"
   ],
   "outputs": [
    {
     "data": {
      "text/plain": [
       "1"
      ]
     },
     "execution_count": 4,
     "metadata": {},
     "output_type": "execute_result"
    }
   ],
   "execution_count": 4
  },
  {
   "cell_type": "code",
   "id": "d1e067a0c29ae1db",
   "metadata": {
    "collapsed": false,
    "editable": true,
    "jupyter": {
     "outputs_hidden": false
    },
    "slideshow": {
     "slide_type": "subslide"
    },
    "tags": [],
    "ExecuteTime": {
     "end_time": "2024-04-25T20:18:37.217970Z",
     "start_time": "2024-04-25T20:18:37.215332Z"
    }
   },
   "source": [
    "for i,split in enumerate(splits[0:3]):\n",
    "    print(f\"Split: {i} - Length:{len(split.page_content)} - {split.page_content} \\n\")\n",
    "    \n",
    "print(f\"Total splits: {len(splits)}\")"
   ],
   "outputs": [
    {
     "name": "stdout",
     "output_type": "stream",
     "text": [
      "Split: 0 - Length:414 - Gothenburg ( ; abbreviated Gbg; Swedish: Göteborg [jœtɛˈbɔrj] ) is the capital of Västra Götaland County in Sweden. It is the second-largest city in Sweden, after the capital Stockholm, and the fifth-largest in the Nordic countries. It is situated by the Kattegat on the west coast of Sweden, with a population of approximately 600,000 in the city proper and about 1.1 million inhabitants in the metropolitan area. \n",
      "\n",
      "Split: 1 - Length:999 - King Gustavus Adolphus founded Gothenburg by royal charter in 1621 as a heavily fortified, primarily Dutch, trading colony. In addition to the generous privileges given to his Dutch allies during the ongoing Thirty Years' War, e.g. tax relaxation, he also attracted significant numbers of his German and Scottish allies to populate his only town on the western coast; this trading status was furthered by the founding of the Swedish East India Company. At a key strategic location at the mouth of the Göta älv, where Scandinavia's largest drainage basin enters the sea, the Port of Gothenburg is now the largest port in the Nordic countries. The presence of the University of Gothenburg and Chalmers University of Technology has led Gothenburg to become home to many students. Volvo was founded in Gothenburg in 1927, with both the original Volvo Group and the separate Volvo Car Corporation still headquartered on the island of Hisingen in the city. Other key companies in the area are AstraZeneca, \n",
      "\n",
      "Split: 2 - Length:209 - in 1927, with both the original Volvo Group and the separate Volvo Car Corporation still headquartered on the island of Hisingen in the city. Other key companies in the area are AstraZeneca, Ericsson, and SKF. \n",
      "\n",
      "Total splits: 37\n"
     ]
    }
   ],
   "execution_count": 5
  },
  {
   "cell_type": "markdown",
   "id": "5287f67290ec7f8c",
   "metadata": {
    "collapsed": false,
    "editable": true,
    "jupyter": {
     "outputs_hidden": false
    },
    "slideshow": {
     "slide_type": "slide"
    },
    "tags": []
   },
   "source": [
    "## Vectorize data & retriever\n",
    "Vectorize the data using the AzureOpenAIEmbeddings model, and create a retriever to be able to retrieve the relevant context based on a question.\n",
    "\n",
    "There are many alternatives: \n",
    "- LanceDB\n",
    "- FAISS\n",
    "- Chroma\n"
   ]
  },
  {
   "cell_type": "code",
   "id": "913a507332365fb8",
   "metadata": {
    "collapsed": false,
    "jupyter": {
     "outputs_hidden": false
    },
    "ExecuteTime": {
     "end_time": "2024-04-25T20:18:37.758542Z",
     "start_time": "2024-04-25T20:18:37.218976Z"
    }
   },
   "source": [
    "embedding_model = AzureOpenAIEmbeddings(model=\"embeddings\")\n",
    "persist_directory = \"chroma_db\"\n",
    "\n",
    "if not Path(persist_directory).is_dir():\n",
    "    print(\"Creating Chroma\")\n",
    "    vectorstore = Chroma.from_documents(documents=splits, embedding=embedding_model,persist_directory=persist_directory)  \n",
    "else:\n",
    "    print(\"Loading Chroma\")\n",
    "    vectorstore = Chroma(persist_directory=persist_directory,embedding_function=embedding_model)"
   ],
   "outputs": [
    {
     "name": "stdout",
     "output_type": "stream",
     "text": [
      "Loading Chroma\n"
     ]
    }
   ],
   "execution_count": 6
  },
  {
   "cell_type": "code",
   "id": "e2e0673b0ee2beff",
   "metadata": {
    "collapsed": false,
    "editable": true,
    "jupyter": {
     "outputs_hidden": false
    },
    "slideshow": {
     "slide_type": "subslide"
    },
    "tags": [],
    "ExecuteTime": {
     "end_time": "2024-04-25T20:18:40.588058Z",
     "start_time": "2024-04-25T20:18:37.759329Z"
    }
   },
   "source": [
    "query = \"How old is the university?\"\n",
    "\n",
    "docs = vectorstore.similarity_search(query) # search for similar documents based on cosine similarity\n",
    "print(docs[0].page_content)"
   ],
   "outputs": [
    {
     "name": "stdout",
     "output_type": "stream",
     "text": [
      "The University of Gothenburg (Swedish: Göteborgs universitet) is a university in Sweden's second largest city, Gothenburg. Founded in 1891, the university is the third-oldest of the current Swedish universities and, with 53,624 students and 6,707 staff members, it is one of the largest universities in the Nordic countries.\n",
      "\n",
      "\n",
      "== About ==\n",
      "With its eight faculties and 38 departments, the University of Gothenburg is one of the most wide-ranging and versatile universities in Sweden. Its eight faculties offer training in the Creative Arts, Social Sciences, Natural Sciences, Humanities, Education, Information Technology, Business, Economics and Law, and Health Sciences.\n",
      "The University of Gothenburg has the highest number of applicants per study place in many of its subjects and courses, making it one of the most popular universities in Sweden.\n",
      "\n",
      "\n",
      "== History ==\n"
     ]
    }
   ],
   "execution_count": 7
  },
  {
   "cell_type": "markdown",
   "id": "5adf987dcf756308",
   "metadata": {
    "collapsed": false,
    "editable": true,
    "jupyter": {
     "outputs_hidden": false
    },
    "slideshow": {
     "slide_type": "slide"
    },
    "tags": []
   },
   "source": [
    "### Retrievers\n",
    "Package the document extractor. \n",
    "- Similarity search, with a cutoff, number of example.\n",
    "- MMR (Maximum ...)\n"
   ]
  },
  {
   "cell_type": "code",
   "id": "227df07e92ff309",
   "metadata": {
    "collapsed": false,
    "editable": true,
    "jupyter": {
     "outputs_hidden": false
    },
    "slideshow": {
     "slide_type": "subslide"
    },
    "tags": [],
    "ExecuteTime": {
     "end_time": "2024-04-25T20:18:40.712421Z",
     "start_time": "2024-04-25T20:18:40.589080Z"
    }
   },
   "source": [
    "retriever = vectorstore.as_retriever()#(search_type=\"mmr\")   \n",
    "\n",
    "docs = retriever.get_relevant_documents(query)\n",
    "for doc in docs:\n",
    "    print(f\"Source: {doc.metadata[\"source\"]} - {doc.page_content} \")"
   ],
   "outputs": [
    {
     "name": "stdout",
     "output_type": "stream",
     "text": [
      "Source: https://en.wikipedia.org/wiki/University_of_Gothenburg - The University of Gothenburg (Swedish: Göteborgs universitet) is a university in Sweden's second largest city, Gothenburg. Founded in 1891, the university is the third-oldest of the current Swedish universities and, with 53,624 students and 6,707 staff members, it is one of the largest universities in the Nordic countries.\n",
      "\n",
      "\n",
      "== About ==\n",
      "With its eight faculties and 38 departments, the University of Gothenburg is one of the most wide-ranging and versatile universities in Sweden. Its eight faculties offer training in the Creative Arts, Social Sciences, Natural Sciences, Humanities, Education, Information Technology, Business, Economics and Law, and Health Sciences.\n",
      "The University of Gothenburg has the highest number of applicants per study place in many of its subjects and courses, making it one of the most popular universities in Sweden.\n",
      "\n",
      "\n",
      "== History == \n",
      "Source: https://en.wikipedia.org/wiki/University_of_Gothenburg - The University of Gothenburg is one of Sweden's largest universities. It is a comprehensive university, organised into eight faculties and 38 departments. The university is a public authority as well as a confederation of Faculty Boards. Each faculty/school has significant autonomy based on its attributed powers, and a distinct identity within the university.\n",
      "The University Board is the university's highest decision-making body. The board consists has \"supervision over all the University's affairs, and is responsible that its duties are fulfilled\". The Swedish Government appoints seven of the members externally, based on their having experience in activities that have significance for the university's teaching and research functions. In addition, the vice-chancellor, three faculty members and three students, as well as union representatives are included as ordinary members. \n",
      "Source: https://en.wikipedia.org/wiki/University_of_Gothenburg - The University of Gothenburg was founded as Göteborgs högskola (Gothenburg University College) in 1891. In 1907 it was granted the same status as Uppsala University and Lund University by the Swedish government, thus creating Sweden's third university.\n",
      "Over the course of time, it has merged with a number of previously independent higher education institutions in the city and has continuously expanded its study profile. It was granted the rights of a full university by the Swedish Government in 1954, following the merger of the Göteborgs högskola (Gothenburg College) with the Medicinhögskolan i Göteborg (Gothenburg Medical School).The University of Gothenburg is a pronounced city university, that is most of its facilities are within the city centre of Gothenburg. The main building as well as most faculties are located in the central part of Gothenburg.\n",
      "Together with Uppsala, Lund, and Stockholm universities, it is one of four large international research universities in Sweden. \n",
      "Source: https://en.wikipedia.org/wiki/University_of_Gothenburg - === Faculties ===\n",
      "\n",
      "The university is organised into eight academic faculties. Collaboration across faculty and subject boundaries is emphasised in the university's research and education strategies. All faculties takes advantage of this possibility and are active participants in a multitude of cross-disciplinary research and education activities within the framework of the university. The university closely cooperates with Chalmers University of Technology, a fact that further increases the total scope of the academic environment in Gothenburg. \n"
     ]
    }
   ],
   "execution_count": 8
  },
  {
   "cell_type": "markdown",
   "id": "64b2fe8d6fed5229",
   "metadata": {
    "collapsed": false,
    "editable": true,
    "jupyter": {
     "outputs_hidden": false
    },
    "slideshow": {
     "slide_type": "slide"
    },
    "tags": []
   },
   "source": [
    "## Prompt and model"
   ]
  },
  {
   "cell_type": "code",
   "id": "7668410ac891188",
   "metadata": {
    "collapsed": false,
    "editable": true,
    "jupyter": {
     "outputs_hidden": false
    },
    "slideshow": {
     "slide_type": "subslide"
    },
    "tags": [],
    "ExecuteTime": {
     "end_time": "2024-04-26T05:40:14.376264Z",
     "start_time": "2024-04-26T05:40:14.340564Z"
    }
   },
   "source": [
    "#prompt = hub.pull(\"rlm/rag-prompt\")  The following prompt is available at Langchain hub\n",
    "prompt=ChatPromptTemplate.from_messages([\n",
    "    (\"system\", \"You are an assistant for question-answering tasks. Use the following pieces of retrieved context to answer the question. If you don't know the answer, just say that you don't know. Use three sentences maximum and keep the answer concise.\"),\n",
    "    (\"user\",\"Question: {question} \\nContext: {context} \\nAnswer:\")])\n",
    "\n",
    "llm = AzureChatOpenAI(model_name=\"gpt4\",api_version=\"2023-12-01-preview\")  # use a huggingface model to generate the text ? (bra på svenska? )\n",
    "\n",
    "def format_docs(docs):\n",
    "    return \"\\n\\n\".join(doc.page_content for doc in docs)\n"
   ],
   "outputs": [],
   "execution_count": 28
  },
  {
   "cell_type": "markdown",
   "id": "8c3749d6682befe6",
   "metadata": {
    "collapsed": false,
    "editable": true,
    "jupyter": {
     "outputs_hidden": false
    },
    "slideshow": {
     "slide_type": "slide"
    },
    "tags": []
   },
   "source": [
    "## Explicit chain\n"
   ]
  },
  {
   "cell_type": "code",
   "id": "b508e12c054eb53b",
   "metadata": {
    "collapsed": false,
    "editable": true,
    "jupyter": {
     "outputs_hidden": false
    },
    "slideshow": {
     "slide_type": "slide"
    },
    "tags": [],
    "ExecuteTime": {
     "end_time": "2024-04-26T05:40:19.851264Z",
     "start_time": "2024-04-26T05:40:19.243578Z"
    }
   },
   "source": [
    "docs = vectorstore.similarity_search(query)\n",
    "\n"
   ],
   "outputs": [],
   "execution_count": 29
  },
  {
   "cell_type": "code",
   "id": "a564d7652639f11d",
   "metadata": {
    "collapsed": false,
    "editable": true,
    "jupyter": {
     "outputs_hidden": false
    },
    "slideshow": {
     "slide_type": "subslide"
    },
    "tags": [],
    "ExecuteTime": {
     "end_time": "2024-04-26T05:40:20.627171Z",
     "start_time": "2024-04-26T05:40:20.619382Z"
    }
   },
   "source": "print(prompt.invoke({\"question\":query,\"context\":format_docs(docs[:2])}))",
   "outputs": [
    {
     "name": "stdout",
     "output_type": "stream",
     "text": [
      "messages=[SystemMessage(content=\"You are an assistant for question-answering tasks. Use the following pieces of retrieved context to answer the question. If you don't know the answer, just say that you don't know. Use three sentences maximum and keep the answer concise.\"), HumanMessage(content='Question: How old is the university? \\nContext: The University of Gothenburg (Swedish: Göteborgs universitet) is a university in Sweden\\'s second largest city, Gothenburg. Founded in 1891, the university is the third-oldest of the current Swedish universities and, with 53,624 students and 6,707 staff members, it is one of the largest universities in the Nordic countries.\\n\\n\\n== About ==\\nWith its eight faculties and 38 departments, the University of Gothenburg is one of the most wide-ranging and versatile universities in Sweden. Its eight faculties offer training in the Creative Arts, Social Sciences, Natural Sciences, Humanities, Education, Information Technology, Business, Economics and Law, and Health Sciences.\\nThe University of Gothenburg has the highest number of applicants per study place in many of its subjects and courses, making it one of the most popular universities in Sweden.\\n\\n\\n== History ==\\n\\nThe University of Gothenburg is one of Sweden\\'s largest universities. It is a comprehensive university, organised into eight faculties and 38 departments. The university is a public authority as well as a confederation of Faculty Boards. Each faculty/school has significant autonomy based on its attributed powers, and a distinct identity within the university.\\nThe University Board is the university\\'s highest decision-making body. The board consists has \"supervision over all the University\\'s affairs, and is responsible that its duties are fulfilled\". The Swedish Government appoints seven of the members externally, based on their having experience in activities that have significance for the university\\'s teaching and research functions. In addition, the vice-chancellor, three faculty members and three students, as well as union representatives are included as ordinary members. \\nAnswer:')]\n"
     ]
    }
   ],
   "execution_count": 30
  },
  {
   "cell_type": "code",
   "id": "ab5d5e6fc96bd9a3",
   "metadata": {
    "collapsed": false,
    "editable": true,
    "jupyter": {
     "outputs_hidden": false
    },
    "slideshow": {
     "slide_type": "subslide"
    },
    "tags": [],
    "ExecuteTime": {
     "end_time": "2024-04-26T05:40:26.465500Z",
     "start_time": "2024-04-26T05:40:22.975174Z"
    }
   },
   "source": "llm.invoke(prompt.invoke({\"question\":query,\"context\":format_docs(docs[:5])}))\n",
   "outputs": [
    {
     "data": {
      "text/plain": [
       "AIMessage(content='The University of Gothenburg was founded in 1891. Therefore, as of 2022, the university is 131 years old.', response_metadata={'token_usage': {'completion_tokens': 29, 'prompt_tokens': 715, 'total_tokens': 744}, 'model_name': 'gpt-4', 'system_fingerprint': None, 'prompt_filter_results': [{'prompt_index': 0, 'content_filter_results': {'hate': {'filtered': False, 'severity': 'safe'}, 'self_harm': {'filtered': False, 'severity': 'safe'}, 'sexual': {'filtered': False, 'severity': 'safe'}, 'violence': {'filtered': False, 'severity': 'safe'}}}], 'finish_reason': 'stop', 'logprobs': None, 'content_filter_results': {'hate': {'filtered': False, 'severity': 'safe'}, 'self_harm': {'filtered': False, 'severity': 'safe'}, 'sexual': {'filtered': False, 'severity': 'safe'}, 'violence': {'filtered': False, 'severity': 'safe'}}})"
      ]
     },
     "execution_count": 31,
     "metadata": {},
     "output_type": "execute_result"
    }
   ],
   "execution_count": 31
  },
  {
   "cell_type": "markdown",
   "id": "8274f61fed9b8a77",
   "metadata": {
    "collapsed": false,
    "editable": true,
    "jupyter": {
     "outputs_hidden": false
    },
    "slideshow": {
     "slide_type": "slide"
    },
    "tags": []
   },
   "source": [
    "## Langchain chain"
   ]
  },
  {
   "cell_type": "code",
   "id": "d375b4435ab1217f",
   "metadata": {
    "collapsed": false,
    "editable": true,
    "jupyter": {
     "outputs_hidden": false
    },
    "slideshow": {
     "slide_type": "subslide"
    },
    "tags": [],
    "ExecuteTime": {
     "end_time": "2024-04-26T05:40:35.174453Z",
     "start_time": "2024-04-26T05:40:31.349088Z"
    }
   },
   "source": [
    "prompt = hub.pull(\"rlm/rag-prompt\")    # The following prompt is available at Langchain hub. We could set it up manually as well.\n",
    "# todo: manually create the prompt object\n",
    "rag_chain = (\n",
    "    {\"context\": retriever | format_docs, \"question\": RunnablePassthrough()}\n",
    "    | prompt\n",
    "    | llm\n",
    "    | StrOutputParser()\n",
    ")"
   ],
   "outputs": [],
   "execution_count": 32
  },
  {
   "cell_type": "code",
   "id": "37b0700f1d6b3eeb",
   "metadata": {
    "collapsed": false,
    "editable": true,
    "jupyter": {
     "outputs_hidden": false
    },
    "slideshow": {
     "slide_type": "subslide"
    },
    "tags": [],
    "ExecuteTime": {
     "end_time": "2024-04-26T05:40:37.432565Z",
     "start_time": "2024-04-26T05:40:35.176359Z"
    }
   },
   "source": "rag_chain.invoke(query)",
   "outputs": [
    {
     "data": {
      "text/plain": [
       "'The University of Gothenburg was founded in 1891.'"
      ]
     },
     "execution_count": 33,
     "metadata": {},
     "output_type": "execute_result"
    }
   ],
   "execution_count": 33
  },
  {
   "metadata": {},
   "cell_type": "code",
   "outputs": [],
   "execution_count": null,
   "source": "",
   "id": "e48ae98cd6dffaed"
  }
 ],
 "metadata": {
  "kernelspec": {
   "display_name": "Python 3 (ipykernel)",
   "language": "python",
   "name": "python3"
  },
  "language_info": {
   "codemirror_mode": {
    "name": "ipython",
    "version": 3
   },
   "file_extension": ".py",
   "mimetype": "text/x-python",
   "name": "python",
   "nbconvert_exporter": "python",
   "pygments_lexer": "ipython3",
   "version": "3.12.2"
  }
 },
 "nbformat": 4,
 "nbformat_minor": 5
}
